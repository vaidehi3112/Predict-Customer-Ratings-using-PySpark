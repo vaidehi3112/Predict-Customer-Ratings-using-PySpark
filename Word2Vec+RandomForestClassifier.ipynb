{
 "cells": [
  {
   "cell_type": "code",
   "execution_count": 1,
   "id": "17b835e2-e301-44b5-b599-0cb60847c690",
   "metadata": {},
   "outputs": [
    {
     "name": "stdout",
     "output_type": "stream",
     "text": [
      "Defaulting to user installation because normal site-packages is not writeable\n",
      "Requirement already satisfied: pyspark in /home/parikh.v/.local/lib/python3.8/site-packages (3.3.2)\n",
      "Requirement already satisfied: py4j==0.10.9.5 in /home/parikh.v/.local/lib/python3.8/site-packages (from pyspark) (0.10.9.5)\n"
     ]
    }
   ],
   "source": [
    "#instal pyspark\n",
    "!pip install pyspark"
   ]
  },
  {
   "cell_type": "code",
   "execution_count": 2,
   "id": "f5b2fdce-20a7-4e76-9281-cdc2f41eac21",
   "metadata": {},
   "outputs": [],
   "source": [
    "#import necessary libraries\n",
    "import re\n",
    "\n",
    "from pyspark.sql import *\n",
    "from pyspark.sql.functions import *\n",
    "from pyspark.ml import Pipeline\n",
    "\n",
    "from pyspark.ml.feature import *\n",
    "\n",
    "import numpy as np\n",
    "import matplotlib.pyplot as plt\n",
    "from sklearn.metrics import confusion_matrix\n",
    "from sklearn.metrics import classification_report\n",
    "\n",
    "from pyspark.ml import Pipeline\n",
    "from pyspark.ml.evaluation import MulticlassClassificationEvaluator\n",
    "from pyspark.ml.feature import StringIndexer, RegexTokenizer\n",
    "from pyspark.ml.feature import Word2Vec\n",
    "from pyspark.ml.classification import RandomForestClassifier\n",
    "from pyspark.ml.evaluation import MulticlassClassificationEvaluator, RegressionEvaluator\n",
    "from pyspark.ml.tuning import ParamGridBuilder, CrossValidator\n",
    "import time"
   ]
  },
  {
   "cell_type": "code",
   "execution_count": 3,
   "id": "570fc6e1-4e33-42bb-b0bd-da93cef7c599",
   "metadata": {},
   "outputs": [],
   "source": [
    "#start the spark session\n",
    "spark = SparkSession.builder \\\n",
    "     .master('local[10]') \\\n",
    "     .appName('Spark NLP') \\\n",
    "     .config(\"spark.driver.memory\", \"8g\") \\\n",
    "     .config(\"spark.sql.autoBroadcastJoinThreshold\", -1) \\\n",
    "     .getOrCreate()"
   ]
  },
  {
   "cell_type": "code",
   "execution_count": 4,
   "id": "b7eb434b-7119-4d57-ae72-d28c6d22ea59",
   "metadata": {},
   "outputs": [],
   "source": [
    "#load train and test data\n",
    "train_df = spark.read.csv('train.csv', header=True)\n",
    "test_df = spark.read.csv('test.csv', header=True)"
   ]
  },
  {
   "cell_type": "code",
   "execution_count": 5,
   "id": "32dbcdb0-7102-42f0-8078-5431d9e4d1aa",
   "metadata": {},
   "outputs": [
    {
     "data": {
      "text/plain": [
       "1380083"
      ]
     },
     "execution_count": 5,
     "metadata": {},
     "output_type": "execute_result"
    }
   ],
   "source": [
    "test_df.count()"
   ]
  },
  {
   "cell_type": "code",
   "execution_count": 6,
   "id": "7f0ea555-181e-4763-b2df-3c1729330a3f",
   "metadata": {},
   "outputs": [],
   "source": [
    "# create a train DataFrame containing the sample data\n",
    "train = train_df.where(\"label = 1\").limit(20000).union(\n",
    "            train_df.where(\"label = 2\").limit(20000)).union(\n",
    "            train_df.where(\"label = 3\").limit(20000)).union(\n",
    "            train_df.where(\"label = 4\").limit(20000)).union(\n",
    "            train_df.where(\"label = 5\").limit(20000))"
   ]
  },
  {
   "cell_type": "code",
   "execution_count": 7,
   "id": "ca3290e0-b1a9-4567-94e1-5360338ad83f",
   "metadata": {},
   "outputs": [],
   "source": [
    "# create a test DataFrame containing the sample data\n",
    "test = test_df.where(\"label = 1\").limit(2000).union(\n",
    "            test_df.where(\"label = 2\").limit(2000)).union(\n",
    "            test_df.where(\"label = 3\").limit(2000)).union(\n",
    "            test_df.where(\"label = 4\").limit(2000)).union(\n",
    "            test_df.where(\"label = 5\").limit(2000))"
   ]
  },
  {
   "cell_type": "code",
   "execution_count": 8,
   "id": "c5be3f4b-7235-4191-8bd6-4788348683be",
   "metadata": {},
   "outputs": [
    {
     "name": "stdout",
     "output_type": "stream",
     "text": [
      "+--------------------+-----+\n",
      "|                text|label|\n",
      "+--------------------+-----+\n",
      "|Great selection o...|    1|\n",
      "|A Disappointing R...|    1|\n",
      "|Just Listen to Io...|    1|\n",
      "|Craapshow     p  ...|    1|\n",
      "|Waste of time and...|    1|\n",
      "+--------------------+-----+\n",
      "only showing top 5 rows\n",
      "\n"
     ]
    }
   ],
   "source": [
    "df = train.union(test)\n",
    "df.show(5)"
   ]
  },
  {
   "attachments": {},
   "cell_type": "markdown",
   "id": "bd3106b2",
   "metadata": {},
   "source": [
    "### Word 2 Vec Embedding"
   ]
  },
  {
   "cell_type": "code",
   "execution_count": 10,
   "id": "329b9662-baa7-4ab0-b201-3228671ec112",
   "metadata": {},
   "outputs": [],
   "source": [
    "# regular expression tokenizer\n",
    "regexTokenizer = RegexTokenizer(inputCol=\"text\", outputCol=\"words\", pattern=\"\\\\W\")\n",
    "\n",
    "# Define Word2Vec model with input and output columns\n",
    "word2vec = Word2Vec(vectorSize=100, inputCol=\"words\", outputCol=\"embeddings\")\n",
    "\n",
    "label_stringIdx = StringIndexer(inputCol = \"label\", outputCol = \"label_1\")\n",
    "\n",
    "#create a pipeline\n",
    "pipeline = Pipeline(stages=[regexTokenizer, word2vec, label_stringIdx])\n",
    "\n",
    "# Fit the pipeline to training documents.\n",
    "pipelineFit = pipeline.fit(df)\n",
    "dataset = pipelineFit.transform(df)\n",
    "\n",
    "dataset = dataset.drop('label')"
   ]
  },
  {
   "cell_type": "code",
   "execution_count": 11,
   "id": "869a6a0f-2186-4341-a7f6-7059ebe2376b",
   "metadata": {},
   "outputs": [
    {
     "name": "stdout",
     "output_type": "stream",
     "text": [
      "+--------------------+--------------------+--------------------+-------+\n",
      "|                text|               words|          embeddings|label_1|\n",
      "+--------------------+--------------------+--------------------+-------+\n",
      "|Great selection o...|[great, selection...|[0.03813548842647...|    0.0|\n",
      "|A Disappointing R...|[a, disappointing...|[0.03239694607651...|    0.0|\n",
      "|Just Listen to Io...|[just, listen, to...|[0.03977035559745...|    0.0|\n",
      "|Craapshow     p  ...|[craapshow, p, i,...|[0.08215042860364...|    0.0|\n",
      "|Waste of time and...|[waste, of, time,...|[0.05910389709540...|    0.0|\n",
      "+--------------------+--------------------+--------------------+-------+\n",
      "only showing top 5 rows\n",
      "\n"
     ]
    }
   ],
   "source": [
    "dataset.show(5)"
   ]
  },
  {
   "cell_type": "code",
   "execution_count": 12,
   "id": "f3e087c9-130a-4628-a79e-be5df58f1bbc",
   "metadata": {},
   "outputs": [],
   "source": [
    "# create a train DataFrame containing the sample data\n",
    "train_df = dataset.where(\"label = 1\").limit(20000).union(\n",
    "            dataset.where(\"label = 2\").limit(20000)).union(\n",
    "            dataset.where(\"label = 3\").limit(20000)).union(\n",
    "            dataset.where(\"label = 4\").limit(20000)).union(\n",
    "            dataset.where(\"label = 5\").limit(20000))\n",
    "\n",
    "# create the test data\n",
    "test_df = dataset.subtract(train_df)"
   ]
  },
  {
   "cell_type": "code",
   "execution_count": 13,
   "id": "b3a1e36c-03dd-4eeb-b226-46c95e5f48a3",
   "metadata": {},
   "outputs": [
    {
     "name": "stdout",
     "output_type": "stream",
     "text": [
      "+--------------------+--------------------+--------------------+-------+\n",
      "|                text|               words|          embeddings|label_1|\n",
      "+--------------------+--------------------+--------------------+-------+\n",
      "|Great selection o...|[great, selection...|[0.03813548842647...|    0.0|\n",
      "|A Disappointing R...|[a, disappointing...|[0.03239694607651...|    0.0|\n",
      "|Just Listen to Io...|[just, listen, to...|[0.03977035559745...|    0.0|\n",
      "|Craapshow     p  ...|[craapshow, p, i,...|[0.08215042860364...|    0.0|\n",
      "|Waste of time and...|[waste, of, time,...|[0.05910389709540...|    0.0|\n",
      "|Long and boring  ...|[long, and, borin...|[0.02130732339962...|    0.0|\n",
      "|too bad  This tur...|[too, bad, this, ...|[-0.0653338500026...|    0.0|\n",
      "|House of Leaves  ...|[house, of, leave...|[0.03834786598662...|    0.0|\n",
      "|Disappointing in ...|[disappointing, i...|[0.01091536244273...|    0.0|\n",
      "|Amazons stock rev...|[amazons, stock, ...|[0.02829726426690...|    0.0|\n",
      "+--------------------+--------------------+--------------------+-------+\n",
      "only showing top 10 rows\n",
      "\n"
     ]
    }
   ],
   "source": [
    "train_df.show(10)"
   ]
  },
  {
   "cell_type": "code",
   "execution_count": 14,
   "id": "1ca5dfe9-baae-429a-b712-ade4727c4120",
   "metadata": {},
   "outputs": [
    {
     "name": "stdout",
     "output_type": "stream",
     "text": [
      "+--------------------+--------------------+--------------------+-------+\n",
      "|                text|               words|          embeddings|label_1|\n",
      "+--------------------+--------------------+--------------------+-------+\n",
      "|Fast cars big sta...|[fast, cars, big,...|[0.04036077261571...|    0.0|\n",
      "|Great Series But ...|[great, series, b...|[0.01737717171966...|    2.0|\n",
      "|great app  i love...|[great, app, i, l...|[0.05581083594851...|    3.0|\n",
      "|slow and steady  ...|[slow, and, stead...|[0.08293303362020...|    2.0|\n",
      "|Mediocre or less ...|[mediocre, or, le...|[0.04449997604467...|    0.0|\n",
      "|NOT BAD  The game...|[not, bad, the, g...|[0.04350141303673...|    2.0|\n",
      "|Good fun  Exercis...|[good, fun, exerc...|[0.01396827468441...|    1.0|\n",
      "|Its OK  Not bad o...|[its, ok, not, ba...|[0.03238478127673...|    1.0|\n",
      "|Neil keeps on goi...|[neil, keeps, on,...|[0.07560510362188...|    2.0|\n",
      "|Worthy Holmes Com...|[worthy, holmes, ...|[0.07943817782683...|    1.0|\n",
      "+--------------------+--------------------+--------------------+-------+\n",
      "only showing top 10 rows\n",
      "\n"
     ]
    }
   ],
   "source": [
    "test_df.show(10)"
   ]
  },
  {
   "attachments": {},
   "cell_type": "markdown",
   "id": "345a302f",
   "metadata": {},
   "source": [
    "### Random Forest Classifier"
   ]
  },
  {
   "cell_type": "code",
   "execution_count": 15,
   "id": "0aefeac5-f909-4d3a-b192-391fd1e84201",
   "metadata": {},
   "outputs": [
    {
     "name": "stdout",
     "output_type": "stream",
     "text": [
      "Start Time:  2023-04-27 12:37:36\n",
      "End Time:  2023-04-27 14:30:29\n",
      "Running Time: 1 hours, 52 minutes, 53 seconds\n"
     ]
    }
   ],
   "source": [
    "start_time = time.time()\n",
    "\n",
    "# Define embeddings column as the input feature\n",
    "input_col = \"embeddings\"\n",
    "\n",
    "# Create RandomForestClassifier model\n",
    "rf = RandomForestClassifier(featuresCol = input_col, labelCol = 'label_1')\n",
    "\n",
    "# Define the evaluator for classification accuracy\n",
    "evaluator_accuracy = MulticlassClassificationEvaluator(labelCol=\"label_1\", predictionCol=\"prediction\", metricName=\"accuracy\")\n",
    "\n",
    "# Create ParamGrid for hyperparameter tuning\n",
    "paramGrid = ParamGridBuilder() \\\n",
    "    .addGrid(rf.maxDepth, [4, 10, 15]) \\\n",
    "    .addGrid(rf.numTrees, [50, 100, 150]) \\\n",
    "    .addGrid(rf.maxBins, [20, 32, 64]) \\\n",
    "    .build()\n",
    "\n",
    "# Create a 5-fold CrossValidator\n",
    "crossval = CrossValidator(estimator=rf,\n",
    "                          estimatorParamMaps=paramGrid,\n",
    "                          evaluator=evaluator_accuracy,\n",
    "                          numFolds=5,\n",
    "                          parallelism=5)\n",
    "\n",
    "# Train the machine learning model with k-fold cross-validation\n",
    "cvModel = crossval.fit(train_df)\n",
    "\n",
    "# Record end time\n",
    "end_time = time.time()\n",
    "\n",
    "# Compute running time in seconds\n",
    "running_time = end_time - start_time\n",
    "\n",
    "# Convert running time to hours, minutes, and seconds\n",
    "hours = int(running_time // 3600)\n",
    "minutes = int((running_time % 3600) // 60)\n",
    "seconds = int((running_time % 3600) % 60)\n",
    "\n",
    "# Print start time, end time, and running time in hours, minutes, and seconds\n",
    "print(\"Start Time: \", time.strftime(\"%Y-%m-%d %H:%M:%S\", time.localtime(start_time)))\n",
    "print(\"End Time: \", time.strftime(\"%Y-%m-%d %H:%M:%S\", time.localtime(end_time)))\n",
    "print(\"Running Time: {} hours, {} minutes, {} seconds\".format(hours, minutes, seconds))"
   ]
  },
  {
   "cell_type": "code",
   "execution_count": 16,
   "id": "185a4017-eb73-4243-bea1-2c77cdd9c4a3",
   "metadata": {},
   "outputs": [
    {
     "name": "stdout",
     "output_type": "stream",
     "text": [
      "Combination 1: Accuracy = 0.4394\n",
      "Combination 2: Accuracy = 0.4408\n",
      "Combination 3: Accuracy = 0.4408\n",
      "Combination 4: Accuracy = 0.4438\n",
      "Combination 5: Accuracy = 0.4431\n",
      "Combination 6: Accuracy = 0.4422\n",
      "Combination 7: Accuracy = 0.4454\n",
      "Combination 8: Accuracy = 0.4466\n",
      "Combination 9: Accuracy = 0.4470\n",
      "Combination 10: Accuracy = 0.4986\n",
      "Combination 11: Accuracy = 0.4982\n",
      "Combination 12: Accuracy = 0.4954\n",
      "Combination 13: Accuracy = 0.5033\n",
      "Combination 14: Accuracy = 0.5022\n",
      "Combination 15: Accuracy = 0.5027\n",
      "Combination 16: Accuracy = 0.5033\n",
      "Combination 17: Accuracy = 0.5041\n",
      "Combination 18: Accuracy = 0.5025\n",
      "Combination 19: Accuracy = 0.5024\n",
      "Combination 20: Accuracy = 0.5035\n",
      "Combination 21: Accuracy = 0.5034\n",
      "Combination 22: Accuracy = 0.5118\n",
      "Combination 23: Accuracy = 0.5118\n",
      "Combination 24: Accuracy = 0.5139\n",
      "Combination 25: Accuracy = 0.5148\n",
      "Combination 26: Accuracy = 0.5155\n",
      "Combination 27: Accuracy = 0.5170\n"
     ]
    }
   ],
   "source": [
    "# Get the validation accuracy for each fold\n",
    "cv_results = cvModel.avgMetrics\n",
    "for i, acc in enumerate(cv_results):\n",
    "    print(\"Combination {}: Accuracy = {:.4f}\".format(i+1, acc))"
   ]
  },
  {
   "cell_type": "code",
   "execution_count": 17,
   "id": "c50e607e-7fb1-4a9f-83ef-15e05fee3026",
   "metadata": {},
   "outputs": [
    {
     "name": "stdout",
     "output_type": "stream",
     "text": [
      "bootstrap = True\n",
      "cacheNodeIds = False\n",
      "checkpointInterval = 10\n",
      "featureSubsetStrategy = auto\n",
      "featuresCol = embeddings\n",
      "impurity = gini\n",
      "labelCol = label_1\n",
      "leafCol = \n",
      "maxBins = 64\n",
      "maxDepth = 15\n",
      "maxMemoryInMB = 256\n",
      "minInfoGain = 0.0\n",
      "minInstancesPerNode = 1\n",
      "minWeightFractionPerNode = 0.0\n",
      "numTrees = 150\n",
      "predictionCol = prediction\n",
      "probabilityCol = probability\n",
      "rawPredictionCol = rawPrediction\n",
      "seed = -1675970062277907489\n",
      "subsamplingRate = 1.0\n"
     ]
    }
   ],
   "source": [
    "# Get the best model from the cross-validation\n",
    "best_model = cvModel.bestModel\n",
    "\n",
    "# Extract the parameter values from the best model\n",
    "param_map = best_model.extractParamMap()\n",
    "\n",
    "# Print the parameter values\n",
    "for k, v in param_map.items():\n",
    "    print(\"{} = {}\".format(k.name, v))"
   ]
  },
  {
   "cell_type": "code",
   "execution_count": 18,
   "id": "2540e7dd-53df-4f64-8838-88d01bcaba22",
   "metadata": {},
   "outputs": [
    {
     "name": "stdout",
     "output_type": "stream",
     "text": [
      "Start Time:  2023-04-27 14:30:29\n",
      "End Time:  2023-04-27 14:30:30\n",
      "Running Time: 0 hours, 0 minutes, 0 seconds\n"
     ]
    }
   ],
   "source": [
    "start_time = time.time()\n",
    "# Make predictions on the test set\n",
    "predictions = cvModel.transform(test_df)\n",
    "\n",
    "# Record end time\n",
    "end_time = time.time()\n",
    "\n",
    "# Compute running time in seconds\n",
    "running_time = end_time - start_time\n",
    "\n",
    "# Convert running time to hours, minutes, and seconds\n",
    "hours = int(running_time // 3600)\n",
    "minutes = int((running_time % 3600) // 60)\n",
    "seconds = int((running_time % 3600) % 60)\n",
    "\n",
    "# Print start time, end time, and running time in hours, minutes, and seconds\n",
    "print(\"Start Time: \", time.strftime(\"%Y-%m-%d %H:%M:%S\", time.localtime(start_time)))\n",
    "print(\"End Time: \", time.strftime(\"%Y-%m-%d %H:%M:%S\", time.localtime(end_time)))\n",
    "print(\"Running Time: {} hours, {} minutes, {} seconds\".format(hours, minutes, seconds))"
   ]
  },
  {
   "cell_type": "code",
   "execution_count": 19,
   "id": "4b90cbea-226e-4aaf-a465-c6d8b32ebfdb",
   "metadata": {},
   "outputs": [
    {
     "data": {
      "text/plain": [
       "0.5097686375321336"
      ]
     },
     "execution_count": 19,
     "metadata": {},
     "output_type": "execute_result"
    }
   ],
   "source": [
    "#calculate classification accuracy\n",
    "evaluator = MulticlassClassificationEvaluator(labelCol=\"label_1\", predictionCol=\"prediction\", metricName=\"accuracy\")\n",
    "evaluator.evaluate(predictions)"
   ]
  },
  {
   "cell_type": "code",
   "execution_count": 20,
   "id": "2f026732-9075-4c30-b633-66dea4b4c225",
   "metadata": {},
   "outputs": [
    {
     "data": {
      "text/plain": [
       "0.6835475578406169"
      ]
     },
     "execution_count": 20,
     "metadata": {},
     "output_type": "execute_result"
    }
   ],
   "source": [
    "# Instantiate the RegressionEvaluator\n",
    "evaluator = RegressionEvaluator(labelCol=\"label_1\", predictionCol=\"prediction\", metricName=\"mae\")\n",
    "\n",
    "# Calculate the MAE\n",
    "evaluator.evaluate(predictions)"
   ]
  }
 ],
 "metadata": {
  "kernelspec": {
   "display_name": "Python 3",
   "language": "python",
   "name": "python3"
  },
  "language_info": {
   "codemirror_mode": {
    "name": "ipython",
    "version": 3
   },
   "file_extension": ".py",
   "mimetype": "text/x-python",
   "name": "python",
   "nbconvert_exporter": "python",
   "pygments_lexer": "ipython3",
   "version": "3.8.8"
  }
 },
 "nbformat": 4,
 "nbformat_minor": 5
}
