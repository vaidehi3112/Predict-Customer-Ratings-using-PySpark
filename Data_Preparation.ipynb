{
  "cells": [
    {
      "cell_type": "code",
      "execution_count": null,
      "metadata": {
        "colab": {
          "base_uri": "https://localhost:8080/"
        },
        "id": "uJC43WODpxIJ",
        "outputId": "dec84cec-0499-4abf-fc06-2df8edb03d61"
      },
      "outputs": [
        {
          "name": "stdout",
          "output_type": "stream",
          "text": [
            "Drive already mounted at /content/drive; to attempt to forcibly remount, call drive.mount(\"/content/drive\", force_remount=True).\n"
          ]
        }
      ],
      "source": [
        "from google.colab import drive\n",
        "drive.mount('/content/drive')"
      ]
    },
    {
      "cell_type": "code",
      "execution_count": null,
      "metadata": {
        "colab": {
          "base_uri": "https://localhost:8080/"
        },
        "id": "8dmqGFScGC5n",
        "outputId": "36eeb246-b779-48ad-ba1a-5caca5fc063c"
      },
      "outputs": [
        {
          "name": "stdout",
          "output_type": "stream",
          "text": [
            "Looking in indexes: https://pypi.org/simple, https://us-python.pkg.dev/colab-wheels/public/simple/\n",
            "Requirement already satisfied: pyspark in /usr/local/lib/python3.9/dist-packages (3.4.0)\n",
            "Requirement already satisfied: py4j==0.10.9.7 in /usr/local/lib/python3.9/dist-packages (from pyspark) (0.10.9.7)\n",
            "Looking in indexes: https://pypi.org/simple, https://us-python.pkg.dev/colab-wheels/public/simple/\n",
            "Requirement already satisfied: sparknlp in /usr/local/lib/python3.9/dist-packages (1.0.0)\n",
            "Requirement already satisfied: numpy in /usr/local/lib/python3.9/dist-packages (from sparknlp) (1.22.4)\n",
            "Requirement already satisfied: spark-nlp in /usr/local/lib/python3.9/dist-packages (from sparknlp) (4.4.0)\n",
            "Looking in indexes: https://pypi.org/simple, https://us-python.pkg.dev/colab-wheels/public/simple/\n",
            "Requirement already satisfied: nltk in /usr/local/lib/python3.9/dist-packages (3.8.1)\n",
            "Requirement already satisfied: regex>=2021.8.3 in /usr/local/lib/python3.9/dist-packages (from nltk) (2022.10.31)\n",
            "Requirement already satisfied: tqdm in /usr/local/lib/python3.9/dist-packages (from nltk) (4.65.0)\n",
            "Requirement already satisfied: click in /usr/local/lib/python3.9/dist-packages (from nltk) (8.1.3)\n",
            "Requirement already satisfied: joblib in /usr/local/lib/python3.9/dist-packages (from nltk) (1.2.0)\n"
          ]
        }
      ],
      "source": [
        "!pip install pyspark\n",
        "!pip install sparknlp\n",
        "!pip install nltk"
      ]
    },
    {
      "cell_type": "code",
      "execution_count": null,
      "metadata": {
        "colab": {
          "base_uri": "https://localhost:8080/"
        },
        "id": "Ai4poR3QGHMN",
        "outputId": "72144963-3a78-429b-d2da-dc26fc4948a1"
      },
      "outputs": [
        {
          "name": "stderr",
          "output_type": "stream",
          "text": [
            "[nltk_data] Downloading package stopwords to /root/nltk_data...\n",
            "[nltk_data]   Package stopwords is already up-to-date!\n"
          ]
        },
        {
          "data": {
            "text/plain": [
              "True"
            ]
          },
          "execution_count": 3,
          "metadata": {},
          "output_type": "execute_result"
        }
      ],
      "source": [
        "import nltk\n",
        "nltk.download('stopwords')"
      ]
    },
    {
      "cell_type": "code",
      "execution_count": null,
      "metadata": {
        "colab": {
          "base_uri": "https://localhost:8080/",
          "height": 221
        },
        "id": "S05pEw0PGOz2",
        "outputId": "7a13dfc5-7973-4b22-8b42-a80f53b87c80"
      },
      "outputs": [
        {
          "data": {
            "text/html": [
              "\n",
              "            <div>\n",
              "                <p><b>SparkSession - in-memory</b></p>\n",
              "                \n",
              "        <div>\n",
              "            <p><b>SparkContext</b></p>\n",
              "\n",
              "            <p><a href=\"http://9f1115b319d6:4040\">Spark UI</a></p>\n",
              "\n",
              "            <dl>\n",
              "              <dt>Version</dt>\n",
              "                <dd><code>v3.4.0</code></dd>\n",
              "              <dt>Master</dt>\n",
              "                <dd><code>local[*]</code></dd>\n",
              "              <dt>AppName</dt>\n",
              "                <dd><code>Spark NLP</code></dd>\n",
              "            </dl>\n",
              "        </div>\n",
              "        \n",
              "            </div>\n",
              "        "
            ],
            "text/plain": [
              "<pyspark.sql.session.SparkSession at 0x7f1905749340>"
            ]
          },
          "execution_count": 4,
          "metadata": {},
          "output_type": "execute_result"
        }
      ],
      "source": [
        "import sparknlp\n",
        "sparknlp.start()"
      ]
    },
    {
      "cell_type": "code",
      "execution_count": null,
      "metadata": {
        "id": "u-7UmD2HGSK9"
      },
      "outputs": [],
      "source": [
        "#import necessary libraries\n",
        "import re\n",
        "from nltk.corpus import stopwords\n",
        "eng_stopwords = stopwords.words('english')\n",
        "eng_stopwords.append('xxxx')\n",
        "from nltk.stem import WordNetLemmatizer\n",
        "from nltk import pos_tag\n",
        "\n",
        "import sparknlp\n",
        "from pyspark.sql import *\n",
        "from sparknlp.base import *\n",
        "from sparknlp.annotator import *\n",
        "from pyspark.sql.functions import *\n",
        "from pyspark.ml import Pipeline\n",
        "\n",
        "from pyspark.ml.feature import *\n",
        "\n",
        "import numpy as np\n",
        "import matplotlib.pyplot as plt\n",
        "from sklearn.metrics import confusion_matrix\n",
        "from sklearn.metrics import classification_report"
      ]
    },
    {
      "cell_type": "code",
      "execution_count": null,
      "metadata": {
        "id": "b56rXQpIGULm"
      },
      "outputs": [],
      "source": [
        "# start spark session configured for spark nlp\n",
        "spark = SparkSession.builder \\\n",
        "     .master('local[50]') \\\n",
        "     .appName('Spark NLP') \\\n",
        "     .config(\"spark.driver.memory\",\"80g\")\\\n",
        "     .config(\"spark.driver.maxResultSize\", \"0\") \\\n",
        "     .config(\"spark.kryoserializer.buffer.max\", \"2000M\") \\\n",
        "     .config(\"spark.jars\", \"https://s3.amazonaws.com/auxdata.johnsnowlabs.com/public/tmp/spark-nlp-gpu-multi-fix4.jar\")\\\n",
        "     .config(\"spark.jars.packages\", \"com.johnsnowlabs.nlp:spark-nlp_2.12:4.4.0\") \\\n",
        "     .getOrCreate()"
      ]
    },
    {
      "cell_type": "code",
      "execution_count": null,
      "metadata": {
        "id": "T0wK6EKxGWW5"
      },
      "outputs": [],
      "source": [
        "#load the data\n",
        "df = spark.read.csv('/content/drive/MyDrive/amazon_reviews_multilingual_US_v1_00.tsv', sep=\"\\t\", header=True).repartition(30)"
      ]
    },
    {
      "cell_type": "code",
      "execution_count": null,
      "metadata": {
        "colab": {
          "base_uri": "https://localhost:8080/"
        },
        "id": "KLpur-_NGwNB",
        "outputId": "eb8dd573-f22f-4d9b-fdb8-86a5eb15d5c9"
      },
      "outputs": [
        {
          "name": "stdout",
          "output_type": "stream",
          "text": [
            "+-----------+-----------+--------------+----------+--------------+--------------------+----------------+-----------+-------------+-----------+----+-----------------+--------------------+--------------------+-----------+\n",
            "|marketplace|customer_id|     review_id|product_id|product_parent|       product_title|product_category|star_rating|helpful_votes|total_votes|vine|verified_purchase|     review_headline|         review_body|review_date|\n",
            "+-----------+-----------+--------------+----------+--------------+--------------------+----------------+-----------+-------------+-----------+----+-----------------+--------------------+--------------------+-----------+\n",
            "|         US|   52946003|R3H88ZRH7E8F41|0783235615|     152746530|         Topaz [VHS]|           Video|          2|           10|         17|   N|                N|Uninvolving, but ...|The wooden Freder...| 2001-01-15|\n",
            "|         US|   52389844|R2K3ZKNSHEIHL8|B00000K31V|     710018450|            eXistenZ|       Video DVD|          4|            3|          5|   N|                N|If you're want a ...|I'm not a huge Cr...| 1999-10-27|\n",
            "|         US|   52110793|R3QVUUZS9YVQ0E|B00000K19E|     825346055|          The Matrix|       Video DVD|          5|            0|          0|   N|                N|In my opinion, be...|Absolutely thrill...| 1999-10-14|\n",
            "|         US|   50287625|R2UIN3EF7DD8Y9|B00000IAU3|     309096838|            No Angel|           Music|          4|            2|          2|   N|                N|Dido's No Angel i...|Dido's No Angel i...| 2001-03-18|\n",
            "|         US|   51036440|R1CGGY3WMSBU8T|B000002KC5|     886789020|       Good Old Boys|           Music|          5|            2|          3|   N|                N|Top 10 Best Album...|I LOVE this album...| 2000-06-28|\n",
            "|         US|   49874710|R242LY68UKURHR|B00001NFCY|     354785034|          Human Clay|           Music|          2|            2|          7|   N|                N|            one word|disapointing.Only...| 2000-04-05|\n",
            "|         US|   49554358|R2VMQ9P2WMB9E0|B000002WU9|      16273788|Only Built 4 Cuba...|           Music|          5|            0|          0|   N|                N|one of the greate...|this is the best ...| 2000-06-17|\n",
            "|         US|   50092064|R119JNYIW1IJYZ|0553277472|     340684550|Zen and the Art o...|           Books|          5|            2|          4|   N|                N|           Zentastic|Ever realise just...| 2000-03-15|\n",
            "|         US|   50258629| RJCHOESBPWTBA|B000002GFC|     222490343|The Very Best of ...|           Music|          4|            0|          1|   N|                N|Liked the Vinyl V...|Somehow through t...| 2000-12-25|\n",
            "|         US|   48465563| R2TB0930DVQGF|B00004XMVH|     957808404|         U-571 [VHS]|           Video|          5|           10|         16|   N|                N|Totally Awesome a...|U-571 is an excel...| 2000-09-13|\n",
            "+-----------+-----------+--------------+----------+--------------+--------------------+----------------+-----------+-------------+-----------+----+-----------------+--------------------+--------------------+-----------+\n",
            "only showing top 10 rows\n",
            "\n"
          ]
        }
      ],
      "source": [
        "df.show(10)"
      ]
    },
    {
      "cell_type": "code",
      "execution_count": null,
      "metadata": {
        "colab": {
          "base_uri": "https://localhost:8080/"
        },
        "id": "KJOOLMogIgqG",
        "outputId": "1cd5a25a-fd06-4b00-d13d-528ad1660aa5"
      },
      "outputs": [
        {
          "name": "stdout",
          "output_type": "stream",
          "text": [
            "['marketplace', 'customer_id', 'review_id', 'product_id', 'product_parent', 'product_title', 'product_category', 'star_rating', 'helpful_votes', 'total_votes', 'vine', 'verified_purchase', 'review_headline', 'review_body', 'review_date']\n"
          ]
        }
      ],
      "source": [
        "#print columns\n",
        "print(df.columns)"
      ]
    },
    {
      "cell_type": "code",
      "execution_count": null,
      "metadata": {
        "id": "smYKCMENgMtB"
      },
      "outputs": [],
      "source": [
        "#select necessary columns for modeling\n",
        "df = df.select(col(\"customer_id\"), col(\"review_id\"), col(\"product_id\"), col(\"review_headline\"), col(\"review_body\"), col(\"star_rating\"))"
      ]
    },
    {
      "cell_type": "code",
      "execution_count": null,
      "metadata": {
        "id": "44M7B5Regk45"
      },
      "outputs": [],
      "source": [
        "# check for null values\n",
        "null_counts = df.select([count(when(isnan(c) | col(c).isNull(), c)).alias(c) for c in df.columns]).toPandas()\n",
        "\n",
        "# drop rows with null values\n",
        "df = df.dropna()"
      ]
    },
    {
      "attachments": {},
      "cell_type": "markdown",
      "metadata": {
        "id": "LKLsNwvrHMyT"
      },
      "source": [
        "#### **The data contains information about customer reviews for various products in different marketplaces. To ensure data quality, the following requirements were applied to the dataset:**\n",
        "\n",
        "1. Only reviews with a minimum length of 20 characters are included in the dataset.\n",
        "2. Only products with at least 2 reviews are included in the dataset.\n",
        "3. Only a maximum of 20 reviews per product and customer are included in the dataset to avoid bias."
      ]
    },
    {
      "cell_type": "code",
      "execution_count": null,
      "metadata": {
        "colab": {
          "base_uri": "https://localhost:8080/"
        },
        "id": "kXOU8_IyGYrV",
        "outputId": "13d9f3cd-d5c8-42f6-9e85-d44e75c6081a"
      },
      "outputs": [
        {
          "name": "stdout",
          "output_type": "stream",
          "text": [
            "+-----------+----------+---------+--------------------+---------------------+\n",
            "|customer_id|product_id|review_id|product_review_count|customer_review_count|\n",
            "+-----------+----------+---------+--------------------+---------------------+\n",
            "|   10000064|B007L6VR6M|        1|                 188|                    2|\n",
            "|   10000064|B008OW1S3O|        1|                 137|                    2|\n",
            "+-----------+----------+---------+--------------------+---------------------+\n",
            "only showing top 2 rows\n",
            "\n"
          ]
        }
      ],
      "source": [
        "# Filter out reviews less than 20 characters long and products with less than 2 reviews\n",
        "df_new = df.filter(length(col(\"review_body\")) >= 20)\n",
        "\n",
        "# Select up to 20 reviews per product and customer\n",
        "df_new = df_new.groupBy(\"product_id\", \"customer_id\").agg({\"review_id\": \"count\"}).filter(col(\"count(review_id)\") <= 20)\n",
        "df_new = df_new.groupBy(\"product_id\", \"customer_id\").agg({\"count(review_id)\": \"max\"}).withColumnRenamed(\"max(count(review_id))\", \"review_id\")\n",
        "df_new = df_new.join(df_new.groupBy(\"product_id\").agg({\"review_id\": \"count\"}).withColumnRenamed(\"count(review_id)\", \"product_review_count\"), \"product_id\")\n",
        "df_new = df_new.join(df_new.groupBy(\"customer_id\").agg({\"review_id\": \"count\"}).withColumnRenamed(\"count(review_id)\", \"customer_review_count\"), \"customer_id\")\n",
        "df_new = df_new.filter((col(\"product_review_count\") >= 2) & (col(\"customer_review_count\") >= 2))\n",
        "\n",
        "df_new.show(2)"
      ]
    },
    {
      "cell_type": "code",
      "execution_count": null,
      "metadata": {
        "id": "5pnftdwoiMsR"
      },
      "outputs": [],
      "source": [
        "df_new = df_new.drop(\"product_id\", \"review_id\", \"product_review_count\", \"customer_review_count\")"
      ]
    },
    {
      "cell_type": "code",
      "execution_count": null,
      "metadata": {
        "id": "ipa41iXbMow6"
      },
      "outputs": [],
      "source": [
        "# Join with the original DataFrame to get the review details\n",
        "df_new = df_new.join(df.select(\"review_id\", \"product_id\", \"customer_id\", \"review_headline\", \"review_body\", \"star_rating\"), \"customer_id\")"
      ]
    },
    {
      "cell_type": "code",
      "execution_count": null,
      "metadata": {
        "colab": {
          "base_uri": "https://localhost:8080/"
        },
        "id": "NMXNNNZaKnj8",
        "outputId": "6d54aabc-cd6d-4e2c-86eb-d72837a5f01a"
      },
      "outputs": [
        {
          "name": "stdout",
          "output_type": "stream",
          "text": [
            "+-----------+--------------+----------+--------------------+--------------------+-----------+\n",
            "|customer_id|     review_id|product_id|     review_headline|         review_body|star_rating|\n",
            "+-----------+--------------+----------+--------------------+--------------------+-----------+\n",
            "|   10000810|R1BX560EJUMMZL|B0055SWM08|Not my usual choi...|The reviews for t...|          3|\n",
            "|   10000810|R2N0CSF286FXGO|B007N85POS|     Angry Birds Rio|For the last few ...|          4|\n",
            "|   10000810|R1JUKQQCYWRJEM|B008P1EWIM|Weather Live - Ap...|I was disapointte...|          2|\n",
            "|   10000810|R3VUV7D1XA10RA|B00ATSBIIG| Beautiful graphics.|The graphics are ...|          3|\n",
            "|   10000810|R2BA2QT6K5MJW5|B008HK3XOU|A sturdy cover to...|I absolutely love...|          5|\n",
            "|   10000810|R2IEYW5OUH23HD|B009C7ZQM4|        Clean master|I love having thi...|          5|\n",
            "|   10000810|R22IBFORFYK61I|B00AFCEIB0|It's good to have...|I like that the f...|          3|\n",
            "|   10000810|R2Q7BD4ROMCHRQ|B0063GORYU|Very simplistic g...|I bought another ...|          2|\n",
            "|   10000810|R13GELJ49MJVXU|B0086700CM|Not my kind of game.|Wow!  I want a ga...|          1|\n",
            "|   10000810|R2DSU5FJ8GBE0C|B004DM1ZQY|  Backgammon opinion|I love playing ba...|          3|\n",
            "+-----------+--------------+----------+--------------------+--------------------+-----------+\n",
            "only showing top 10 rows\n",
            "\n"
          ]
        }
      ],
      "source": [
        "df_new.show(10)"
      ]
    },
    {
      "cell_type": "code",
      "execution_count": null,
      "metadata": {
        "colab": {
          "base_uri": "https://localhost:8080/"
        },
        "id": "Y4hZgC4ytOQf",
        "outputId": "80daa330-8cea-4882-ebe6-101bf77f9d2a"
      },
      "outputs": [
        {
          "data": {
            "text/plain": [
              "54901614"
            ]
          },
          "execution_count": 91,
          "metadata": {},
          "output_type": "execute_result"
        }
      ],
      "source": [
        "df_new.count()"
      ]
    },
    {
      "cell_type": "code",
      "execution_count": null,
      "metadata": {
        "id": "EOu1z_IoL0dE"
      },
      "outputs": [],
      "source": [
        "# Remove HTML tags\n",
        "df_new = df_new.withColumn(\"review_body\", regexp_replace(\"review_body\", \"<.*?>\", \"\"))\n",
        "\n",
        "# Truncate review body at 2,000 characters\n",
        "df_new = df_new.withColumn(\"review_body\", substring(\"review_body\", 0, 4000))"
      ]
    },
    {
      "cell_type": "code",
      "execution_count": null,
      "metadata": {
        "colab": {
          "base_uri": "https://localhost:8080/"
        },
        "id": "beBN5zA3qNUT",
        "outputId": "868c416f-9015-4b3d-f54b-23a451d9d51e"
      },
      "outputs": [
        {
          "name": "stdout",
          "output_type": "stream",
          "text": [
            "+-----------+--------------+----------+-----------+--------------------+\n",
            "|customer_id|     review_id|product_id|star_rating|              review|\n",
            "+-----------+--------------+----------+-----------+--------------------+\n",
            "|   10000810|R1BX560EJUMMZL|B0055SWM08|          3|Not my usual choi...|\n",
            "|   10000810|R2N0CSF286FXGO|B007N85POS|          4|Angry Birds Rio F...|\n",
            "|   10000810|R1JUKQQCYWRJEM|B008P1EWIM|          2|Weather Live - Ap...|\n",
            "|   10000810|R3VUV7D1XA10RA|B00ATSBIIG|          3|Beautiful graphic...|\n",
            "|   10000810|R2BA2QT6K5MJW5|B008HK3XOU|          5|A sturdy cover to...|\n",
            "+-----------+--------------+----------+-----------+--------------------+\n",
            "only showing top 5 rows\n",
            "\n"
          ]
        }
      ],
      "source": [
        "#concate revie_headline and review_body and create a new column \"review\"\n",
        "df_new = df_new.withColumn(\"review\", concat(col(\"review_headline\"), lit(\" \"), col(\"review_body\")))\n",
        "df_new = df_new.drop(\"review_headline\", \"review_body\")\n",
        "df_new.show(5)"
      ]
    },
    {
      "attachments": {},
      "cell_type": "markdown",
      "metadata": {},
      "source": [
        "#### **We also applied a vocabulary-based filter on the reviews. If a review contains a token that doesn’t occur in at least 20 other reviews, then the review is excluded from the dataset.**"
      ]
    },
    {
      "cell_type": "code",
      "execution_count": null,
      "metadata": {
        "id": "mHmLnScHjWqr"
      },
      "outputs": [],
      "source": [
        "# Tokenize review_body column\n",
        "tokenizer = Tokenizer(inputCol=\"review_body\", outputCol=\"tokens\")\n",
        "df_tokens = tokenizer.transform(df_new)\n",
        "\n",
        "# Count the frequency of each token\n",
        "cv = CountVectorizer(inputCol=\"tokens\", outputCol=\"raw_features\")\n",
        "cv_model = cv.fit(df_tokens)\n",
        "df_features = cv_model.transform(df_tokens)\n",
        "\n",
        "# Filter out the reviews that contain tokens that occur in less than 20 other reviews\n",
        "idf = IDF(inputCol=\"raw_features\", outputCol=\"features\", minDocFreq=20)\n",
        "idf_model = idf.fit(df_features)\n",
        "df_filtered = idf_model.transform(df_features).select(\"review_id\", \"features\")\n",
        "\n",
        "# Join the resulting DataFrame with the original DataFrame on the review_id column\n",
        "df_final = df.join(df_filtered, \"review_id\")"
      ]
    },
    {
      "cell_type": "code",
      "execution_count": null,
      "metadata": {
        "id": "NM8FPqihAnhc"
      },
      "outputs": [],
      "source": [
        "#drop duplicates from the dataframe\n",
        "df_final = df_final.dropDuplicates()\n",
        "\n",
        "#combine all the dataframes into one (repartitioned for parallelism)\n",
        "df_final = df_final.coalesce(1)\n",
        "\n",
        "#save the clean data as csv\n",
        "df_final.write.csv(\"/content/drive/MyDrive/df_cleaned.csv\", header=True)"
      ]
    }
  ],
  "metadata": {
    "colab": {
      "machine_shape": "hm",
      "provenance": []
    },
    "gpuClass": "standard",
    "kernelspec": {
      "display_name": "Python 3",
      "name": "python3"
    },
    "language_info": {
      "name": "python"
    }
  },
  "nbformat": 4,
  "nbformat_minor": 0
}
